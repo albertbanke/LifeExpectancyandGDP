{
 "cells": [
  {
   "cell_type": "markdown",
   "metadata": {},
   "source": [
    "### Life Expectancy and GDP Python Project\n",
    "#### by Albert Cort Banke\n",
    "<div>\n",
    "<img src=\"https://upload.wikimedia.org/wikipedia/commons/thumb/2/26/World_Health_Organization_Logo.svg/1280px-World_Health_Organization_Logo.svg.png\" width=\"400\"/>\n",
    "</div>"
   ]
  },
  {
   "cell_type": "markdown",
   "metadata": {},
   "source": [
    "Project scope\n",
    "\n",
    "**Goal**: To draw insights from the dataset included and illustrate interesting features with visualizations and summary statistics\n",
    "\n",
    "**Data**: The data stems from and is provided by WHO. Thus the findings will be published at their website\n",
    "\n",
    "**Analysis**: We use exploratory data analysis and hypothesis testing to assess the data and determine associations in the data. "
   ]
  },
  {
   "cell_type": "markdown",
   "metadata": {},
   "source": [
    "1. Preparation\n",
    "\n",
    "Import the relevant libraries (A) and import and read the data (B)"
   ]
  },
  {
   "cell_type": "code",
   "execution_count": 2,
   "metadata": {},
   "outputs": [],
   "source": [
    "# (A)\n",
    "from matplotlib import pyplot as plt\n",
    "import pandas as pd\n",
    "import numpy as np\n",
    "import seaborn as sns"
   ]
  },
  {
   "cell_type": "code",
   "execution_count": 3,
   "metadata": {},
   "outputs": [
    {
     "name": "stdout",
     "output_type": "stream",
     "text": [
      "  Country  Year  Life expectancy at birth (years)           GDP\n",
      "0   Chile  2000                              77.3  7.786093e+10\n",
      "1   Chile  2001                              77.3  7.097992e+10\n",
      "2   Chile  2002                              77.8  6.973681e+10\n",
      "3   Chile  2003                              77.9  7.564346e+10\n",
      "4   Chile  2004                              78.0  9.921039e+10\n"
     ]
    }
   ],
   "source": [
    "# (B)\n",
    "df = pd.read_csv('all_data.csv')\n",
    "\n",
    "# We print the first few observations to check the data has been imported correctly\n",
    "print(df.head())\n",
    "# We confirm the data has been imported correctly"
   ]
  },
  {
   "cell_type": "markdown",
   "metadata": {},
   "source": [
    "2. Data transformation\n",
    "\n",
    "Review (C) the dataset and prepare (D) it for the exploratory data analysis\n"
   ]
  },
  {
   "cell_type": "code",
   "execution_count": 4,
   "metadata": {},
   "outputs": [
    {
     "name": "stdout",
     "output_type": "stream",
     "text": [
      "<class 'pandas.core.frame.DataFrame'>\n",
      "RangeIndex: 96 entries, 0 to 95\n",
      "Data columns (total 4 columns):\n",
      " #   Column                            Non-Null Count  Dtype  \n",
      "---  ------                            --------------  -----  \n",
      " 0   Country                           96 non-null     object \n",
      " 1   Year                              96 non-null     int64  \n",
      " 2   Life expectancy at birth (years)  96 non-null     float64\n",
      " 3   GDP                               96 non-null     float64\n",
      "dtypes: float64(2), int64(1), object(1)\n",
      "memory usage: 3.1+ KB\n",
      "None\n"
     ]
    }
   ],
   "source": [
    "# (C) To review, we use Pandas built-in functions to gain more information about the data at hand\n",
    "# The .info() function helps provide this information\n",
    "\n",
    "print(df.info())"
   ]
  },
  {
   "cell_type": "markdown",
   "metadata": {},
   "source": [
    "Starting from left to right, we see there are 4 columns. These are ***Country***, ***Year***, ***Life expectancy at birth (years)***, and ***GDP***\n",
    "\n",
    "Moreover there are **96** instances, where 0 non-null values are present. This means we have a complete dataset. \n",
    "\n",
    "The data composition is the following: Country = nominal categorical values, Year = quantitative discrete values, Life expectancy at birth (years) = quantitative continuous values, GDP = quantitative continuous values. In short, the variables we are dealing with are both quantitative and categorical. This is important for the following analysis - both exploratory and statistical"
   ]
  },
  {
   "cell_type": "markdown",
   "metadata": {},
   "source": [
    "During the preparation an aspect of the GDP column became clear. The values are rather large, thus it is difficult to plot the data when the values are too large. Let's inspect the range of the values and confirm the hypothesis."
   ]
  },
  {
   "cell_type": "code",
   "execution_count": 5,
   "metadata": {},
   "outputs": [
    {
     "name": "stdout",
     "output_type": "stream",
     "text": [
      "18100000000000.0\n",
      "4415702800.0\n"
     ]
    }
   ],
   "source": [
    "print(df['GDP'].max())\n",
    "print(df['GDP'].min())\n",
    "\n",
    "# Max = 18100000000000.0\n",
    "# Min = 4415702800.0\n",
    "\n",
    "# Evidently, the range between the max and min values of the GDP variable is significant\n",
    "# To remedy this we move onto the next part of the data transformation"
   ]
  },
  {
   "cell_type": "code",
   "execution_count": 6,
   "metadata": {},
   "outputs": [
    {
     "name": "stdout",
     "output_type": "stream",
     "text": [
      "     Country  Year  Life expectancy at birth (years)        GDP\n",
      "0      Chile  2000                              77.3  77.860932\n",
      "1      Chile  2001                              77.3  70.979924\n",
      "2      Chile  2002                              77.8  69.736811\n",
      "3      Chile  2003                              77.9  75.643460\n",
      "4      Chile  2004                              78.0  99.210393\n",
      "..       ...   ...                               ...        ...\n",
      "91  Zimbabwe  2011                              54.9  12.098451\n",
      "92  Zimbabwe  2012                              56.6  14.242490\n",
      "93  Zimbabwe  2013                              58.0  15.451769\n",
      "94  Zimbabwe  2014                              59.2  15.891049\n",
      "95  Zimbabwe  2015                              60.7  16.304668\n",
      "\n",
      "[96 rows x 4 columns]\n"
     ]
    }
   ],
   "source": [
    "# (D) The data transformation will convert the GDP values to be represented in billions (USD)\n",
    "# The lambda function is used to make a strong and easy implementation of this in the df['GDP'] column\n",
    "\n",
    "df['GDP'] = df.apply(lambda x: x['GDP']/1000000000, axis = 1)\n",
    "\n",
    "# Printing the dataframe to inspect if the transformation has been implemented correctly\n",
    "# As one can see in the GDP column, it has indeed been implemented well\n",
    "\n",
    "print(df)"
   ]
  },
  {
   "cell_type": "code",
   "execution_count": 7,
   "metadata": {},
   "outputs": [
    {
     "name": "stdout",
     "output_type": "stream",
     "text": [
      "Index(['country', 'year', 'life_expectancy_yrs', 'gdp_usdb'], dtype='object')\n",
      "     country  year  life_expectancy_yrs   gdp_usdb\n",
      "0      Chile  2000                 77.3  77.860932\n",
      "1      Chile  2001                 77.3  70.979924\n",
      "2      Chile  2002                 77.8  69.736811\n",
      "3      Chile  2003                 77.9  75.643460\n",
      "4      Chile  2004                 78.0  99.210393\n",
      "..       ...   ...                  ...        ...\n",
      "91  Zimbabwe  2011                 54.9  12.098451\n",
      "92  Zimbabwe  2012                 56.6  14.242490\n",
      "93  Zimbabwe  2013                 58.0  15.451769\n",
      "94  Zimbabwe  2014                 59.2  15.891049\n",
      "95  Zimbabwe  2015                 60.7  16.304668\n",
      "\n",
      "[96 rows x 4 columns]\n"
     ]
    }
   ],
   "source": [
    "# (D) to ensure that the EDA goes without error we change the column titles. \n",
    "# A minor operation which can help when coding the plots\n",
    "\n",
    "df.columns = ['country', 'year', 'life_expectancy_yrs', 'gdp_usdb']\n",
    "\n",
    "# Checking whether the column names has been updated \n",
    "\n",
    "print(df.columns)\n",
    "\n",
    "print(df)\n",
    "\n",
    "# The dataset looks good, and the project continues on the the EDA\n"
   ]
  },
  {
   "cell_type": "markdown",
   "metadata": {},
   "source": [
    "3. Exploratory Data Analysis\n",
    "\n",
    "This section consists of two parts. The first is a summary (E) of the statistical aspects of the data. The second is visualization (F) module, which consists of univariate, bivariate, and multivariate analysis.  "
   ]
  },
  {
   "cell_type": "code",
   "execution_count": 8,
   "metadata": {},
   "outputs": [
    {
     "name": "stdout",
     "output_type": "stream",
     "text": [
      "              year  life_expectancy_yrs      gdp_usdb\n",
      "count    96.000000            96.000000     96.000000\n",
      "mean   2007.500000            72.789583   3880.498571\n",
      "std       4.633971            10.672882   5197.561311\n",
      "min    2000.000000            44.300000      4.415703\n",
      "25%    2003.750000            74.475000    173.301750\n",
      "50%    2007.500000            76.750000   1280.220000\n",
      "75%    2011.250000            78.900000   4067.510000\n",
      "max    2015.000000            81.000000  18100.000000\n"
     ]
    }
   ],
   "source": [
    "# (E) Summary statistics with Pandas .describe() function\n",
    "\n",
    "print(df.describe())"
   ]
  },
  {
   "cell_type": "markdown",
   "metadata": {},
   "source": [
    "Interpretation of the statistics\n",
    "\n",
    "***Year:*** The first instance of the data is in year 2000 while the last is in 2015\n",
    "As this is a time series dataset, the significance of the year attribute is its non-missing status. Furthermore we see the instances are entered in the same way via the correct calculations in the summary table\n",
    "\n",
    "***Life_expectancy_yrs:*** The max expectancy is 81 years while the minimum age is 44.3. This implies that the range in this attribute is significant \n",
    "The mean is 72.78 years. In other words, the mean is quite high and close to the max value. \n",
    "This could indicate that many of the countries sampled are modernerized\n",
    "\n",
    "***GDP:*** The highest GDP in a year is 18100 billion USD. Meanwhile the lowest in a year is 4.4 billion USD. A strong distance between the two values\n",
    "The mean GDP is 3880 billion usd. Having such high values implies that the interquartile range will be far from each other. In other words, there will be outliers\n",
    "\n",
    "Note how the country variable is not represented in the summary table. This is because the variable is categorical and unfit for quantitative analysis"
   ]
  },
  {
   "cell_type": "code",
   "execution_count": 15,
   "metadata": {},
   "outputs": [
    {
     "data": {
      "image/png": "[encoded data removed]",
      "text/plain": [
       "<Figure size 432x288 with 1 Axes>"
      ]
     },
     "metadata": {
      "needs_background": "light"
     },
     "output_type": "display_data"
    },
    {
     "data": {
      "image/png": "[encoded data removed]",
      "text/plain": [
       "<Figure size 432x288 with 1 Axes>"
      ]
     },
     "metadata": {
      "needs_background": "light"
     },
     "output_type": "display_data"
    }
   ],
   "source": [
    "# (F) Univariate data analysis\n",
    "\n",
    "# Plotting a histogram of the Life expectancy in years\n",
    "\n",
    "ax = sns.histplot(data = df, x='life_expectancy_yrs')\n",
    "plt.title('Life Expectancy in Years')\n",
    "plt.show()\n",
    "plt.clf()\n",
    "\n",
    "# Interpreation: We see a divide above and below 60. \n",
    "# This could indicate that the countries investigated differ in the medical infrastructure and general well being\n",
    "\n",
    "plt.subplot()\n",
    "ax1 = sns.violinplot(data = df, x='gdp_usdb')\n",
    "plt.xlim(-10000,25000)\n",
    "plt.show()\n",
    "\n",
    "# Interpreation: The GDP variable is right-skewed. \n",
    "# The median is shown by the white dot and the quartiles by the thick line in the middle. Much"
   ]
  },
  {
   "cell_type": "code",
   "execution_count": null,
   "metadata": {},
   "outputs": [],
   "source": []
  }
 ],
 "metadata": {
  "kernelspec": {
   "display_name": "Python 3",
   "language": "python",
   "name": "python3"
  },
  "language_info": {
   "codemirror_mode": {
    "name": "ipython",
    "version": 3
   },
   "file_extension": ".py",
   "mimetype": "text/x-python",
   "name": "python",
   "nbconvert_exporter": "python",
   "pygments_lexer": "ipython3",
   "version": "3.8.8"
  }
 },
 "nbformat": 4,
 "nbformat_minor": 4
}
